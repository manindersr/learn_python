{
 "cells": [
  {
   "cell_type": "code",
   "execution_count": null,
   "id": "c41f479e-c7ef-47c5-9981-ce18fc6f321c",
   "metadata": {},
   "outputs": [],
   "source": [
    "var1 = \"Hello World!\""
   ]
  },
  {
   "cell_type": "code",
   "execution_count": null,
   "id": "d42f5bc5-fb49-40d6-afaf-d2dbed0a53bc",
   "metadata": {},
   "outputs": [],
   "source": [
    "print(var1*2)"
   ]
  },
  {
   "cell_type": "code",
   "execution_count": null,
   "id": "acf20f2c-9127-4d9b-9296-523be65f01fb",
   "metadata": {},
   "outputs": [],
   "source": [
    "var2 = \"Hello World!\""
   ]
  },
  {
   "cell_type": "code",
   "execution_count": null,
   "id": "2798d739-c905-447b-9448-e3eca152eaf0",
   "metadata": {},
   "outputs": [],
   "source": [
    "id(var1)"
   ]
  },
  {
   "cell_type": "code",
   "execution_count": null,
   "id": "376c6280-f22f-4e9d-86a4-5207e2dff836",
   "metadata": {},
   "outputs": [],
   "source": [
    "id(var2)"
   ]
  },
  {
   "cell_type": "code",
   "execution_count": null,
   "id": "68863c5b-f3c5-4ddc-93b3-8bcf788e7876",
   "metadata": {},
   "outputs": [],
   "source": [
    "x = 2; y=2"
   ]
  },
  {
   "cell_type": "code",
   "execution_count": null,
   "id": "849b3abf-f1ab-44d0-8feb-f2d6817b7dde",
   "metadata": {},
   "outputs": [],
   "source": [
    "id(x)"
   ]
  },
  {
   "cell_type": "code",
   "execution_count": null,
   "id": "bd190580-61dc-44f9-9e67-c39760b53c63",
   "metadata": {},
   "outputs": [],
   "source": [
    "id(y)"
   ]
  },
  {
   "cell_type": "code",
   "execution_count": null,
   "id": "80055cf1-5778-43f6-b702-4b7d57d94bf0",
   "metadata": {},
   "outputs": [],
   "source": [
    "z =2"
   ]
  },
  {
   "cell_type": "code",
   "execution_count": null,
   "id": "3dbaae71-97cb-4549-b71f-312f20f23ad9",
   "metadata": {},
   "outputs": [],
   "source": [
    "id(z)"
   ]
  },
  {
   "cell_type": "code",
   "execution_count": null,
   "id": "023185ec-f555-4063-934b-78c362687b6c",
   "metadata": {},
   "outputs": [],
   "source": [
    "z = 3"
   ]
  },
  {
   "cell_type": "code",
   "execution_count": null,
   "id": "e53e7c5d-461b-4916-8db9-348817fc4a10",
   "metadata": {},
   "outputs": [],
   "source": [
    "id(z)"
   ]
  },
  {
   "cell_type": "code",
   "execution_count": null,
   "id": "2fb60f70-459c-4364-a278-ede810e134ae",
   "metadata": {},
   "outputs": [],
   "source": [
    "id(x)"
   ]
  },
  {
   "cell_type": "code",
   "execution_count": null,
   "id": "b41a043e-979f-4e6e-87c3-88e8ed22cb8e",
   "metadata": {},
   "outputs": [],
   "source": [
    "l = [1] #list()"
   ]
  },
  {
   "cell_type": "code",
   "execution_count": null,
   "id": "5fed760c-27b5-4f4d-b826-aab647fedce3",
   "metadata": {},
   "outputs": [],
   "source": [
    "id(l)"
   ]
  },
  {
   "cell_type": "code",
   "execution_count": null,
   "id": "1c24eef7-2e01-4320-bcd7-9798b51e3a90",
   "metadata": {},
   "outputs": [],
   "source": [
    "l.append(2)"
   ]
  },
  {
   "cell_type": "code",
   "execution_count": null,
   "id": "179c13e0-ec63-471e-80df-b404e3fa2729",
   "metadata": {},
   "outputs": [],
   "source": [
    "l"
   ]
  },
  {
   "cell_type": "code",
   "execution_count": null,
   "id": "4a2ec60c-57e1-4482-b5db-c46625e7b4af",
   "metadata": {},
   "outputs": [],
   "source": [
    "ll = l"
   ]
  },
  {
   "cell_type": "code",
   "execution_count": null,
   "id": "191c6aef-cf8a-44b7-937d-44edbe48d68a",
   "metadata": {},
   "outputs": [],
   "source": [
    "id(l)"
   ]
  },
  {
   "cell_type": "code",
   "execution_count": null,
   "id": "93f98fe9-385d-4024-bdd8-c47c9f6aefd3",
   "metadata": {},
   "outputs": [],
   "source": [
    "id(ll)"
   ]
  },
  {
   "cell_type": "code",
   "execution_count": null,
   "id": "0d91c6e1-391a-4d81-ab20-36ee233443a3",
   "metadata": {},
   "outputs": [],
   "source": [
    "ll.append(5)"
   ]
  },
  {
   "cell_type": "code",
   "execution_count": null,
   "id": "4f161589-a94c-468e-97e3-44efe38ea17c",
   "metadata": {},
   "outputs": [],
   "source": [
    "ll"
   ]
  },
  {
   "cell_type": "code",
   "execution_count": null,
   "id": "bb38646c-3c56-4fe2-b213-cfc910d65c5f",
   "metadata": {},
   "outputs": [],
   "source": [
    "l"
   ]
  },
  {
   "cell_type": "code",
   "execution_count": null,
   "id": "30c5f73a-b6e6-46be-8b60-a8ec8c35d300",
   "metadata": {},
   "outputs": [],
   "source": []
  },
  {
   "cell_type": "code",
   "execution_count": null,
   "id": "81653868-e2ad-42ad-897f-32a1fabc4943",
   "metadata": {},
   "outputs": [],
   "source": []
  }
 ],
 "metadata": {
  "kernelspec": {
   "display_name": "Python 3 (ipykernel)",
   "language": "python",
   "name": "python3"
  },
  "language_info": {
   "codemirror_mode": {
    "name": "ipython",
    "version": 3
   },
   "file_extension": ".py",
   "mimetype": "text/x-python",
   "name": "python",
   "nbconvert_exporter": "python",
   "pygments_lexer": "ipython3",
   "version": "3.10.0"
  }
 },
 "nbformat": 4,
 "nbformat_minor": 5
}
